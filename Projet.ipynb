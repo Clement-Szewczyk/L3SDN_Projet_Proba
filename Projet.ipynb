{
 "cells": [
  {
   "cell_type": "markdown",
   "metadata": {},
   "source": [
    "# Projet Probabilité et Statistique L3 Sciences du Numérique\n",
    "\n",
    "**Auteurs :**\n",
    "- Stievenard Emma\n",
    "- Szewczyk Clément\n",
    "\n",
    "# Introduction"
   ]
  },
  {
   "cell_type": "code",
   "execution_count": 100,
   "metadata": {},
   "outputs": [],
   "source": [
    "#Préparation des données\n",
    "import pandas as pd\n",
    "\n",
    "# Charger le fichier CSV avec l'encodage spécifié\n",
    "file_path = \"data/data2022.csv\"  \n",
    "df = pd.read_csv(file_path, encoding='latin-1', sep=';')  \n"
   ]
  },
  {
   "cell_type": "code",
   "execution_count": 101,
   "metadata": {},
   "outputs": [
    {
     "name": "stdout",
     "output_type": "stream",
     "text": [
      "   Année           Zone                      Région Numéro       Département  \\\n",
      "0   2022            Sud  Provence-Alpes-Côte d'Azur   BMPM  Bouches-du-Rhône   \n",
      "1   2022  Île-de-France               Île-de-France   BSPP             Paris   \n",
      "2   2022        Sud-est        Auvergne-Rhône-Alpes      1               Ain   \n",
      "3   2022           Nord             Hauts-de-France      2             Aisne   \n",
      "4   2022        Sud-est        Auvergne-Rhône-Alpes      3            Allier   \n",
      "\n",
      "  Catégorie A Feux d'habitations-bureaux  dont feux de cheminées  \\\n",
      "0         NaN                        756                    10.0   \n",
      "1         NaN                      3 708                    29.0   \n",
      "2           B                        524                   211.0   \n",
      "3           B                        954                   329.0   \n",
      "4           C                        449                   223.0   \n",
      "\n",
      "   Feux d'ERP avec local à sommeil  Feux d'ERP sans local à sommeil  ...  \\\n",
      "0                             44.0                            141.0  ...   \n",
      "1                            133.0                            583.0  ...   \n",
      "2                             22.0                             13.0  ...   \n",
      "3                             30.0                             53.0  ...   \n",
      "4                              8.0                             24.0  ...   \n",
      "\n",
      "   Dégagements de voies publiques  Nettoyages de voies publiques  Éboulements  \\\n",
      "0                             542                          124.0         21.0   \n",
      "1                              30                          252.0         36.0   \n",
      "2                             281                            1.0         38.0   \n",
      "3                              16                            0.0          5.0   \n",
      "4                             146                           40.0          1.0   \n",
      "\n",
      "  Déposes d'objets Piquets de sécurité - surveillances Engins explosifs  \\\n",
      "0                0                               1 752              1.0   \n",
      "1              543                                   0             10.0   \n",
      "2               57                                   3              0.0   \n",
      "3               93                                   0              1.0   \n",
      "4              163                                  26              0.0   \n",
      "\n",
      "  Autres opérations diverses  Divers Opérations diverses Total interventions  \n",
      "0                      7 173  15 018              18 637             126 581  \n",
      "1                      9 290  13 564              16 530             498 162  \n",
      "2                        646   5 460               6 180              48 528  \n",
      "3                        150   2 627               3 930              36 219  \n",
      "4                      5 226   5 794               6 696              32 024  \n",
      "\n",
      "[5 rows x 71 columns]\n"
     ]
    }
   ],
   "source": [
    "# Afficher les premières lignes pour inspecter les données\n",
    "print(df.head())"
   ]
  },
  {
   "cell_type": "code",
   "execution_count": 102,
   "metadata": {},
   "outputs": [
    {
     "name": "stdout",
     "output_type": "stream",
     "text": [
      "Index(['Année', 'Zone', 'Région', 'Numéro', 'Département', 'Catégorie A',\n",
      "       'Feux d'habitations-bureaux', 'dont feux de cheminées',\n",
      "       'Feux d'ERP avec local à sommeil', 'Feux d'ERP sans local à sommeil',\n",
      "       'Feux de locaux industriels', 'Feux de locaux artisanaux',\n",
      "       'Feux de locaux agricoles', 'Feux sur voie publique',\n",
      "       'Feux de véhicules', 'Feux de végétations', 'Autres feux', 'Incendies',\n",
      "       'Accidents sur lieux de travail', 'Accidents à domicile',\n",
      "       'Accidents de sport', 'Accidents sur voie publique',\n",
      "       'Secours en montagne', 'Malaises sur lieux de travail',\n",
      "       'Malaises à domicile : urgence vitale', 'Malaises à domicile : carence',\n",
      "       'Malaises en sport', 'Malaises sur voie publique', 'Autolyses',\n",
      "       'Secours en piscines ou eaux intérieures', 'Secours en mer (FDSM)',\n",
      "       'Intoxications', 'dont intoxications au CO', 'Autres SAV',\n",
      "       'Secours à victime', 'Relevage de personnes', 'Recherche de personnes',\n",
      "       'Aides à personne', 'Secours à personne', 'Accidents routiers',\n",
      "       'Accidents ferroviaires', 'Accidents aériens',\n",
      "       'Accidents de navigation', 'Accidents de téléportage',\n",
      "       'Accidents de circulation', 'Odeurs - fuites de gaz',\n",
      "       'Odeurs (autres que gaz)', 'Fait dus à l'électricité',\n",
      "       'Pollutions - contaminations', 'Autres risques technologiques',\n",
      "       'Risques technologiques', 'Fuites d'eau', 'Inondations',\n",
      "       'Ouvertures de portes', 'Recherches d'objets', 'Bruits suspects',\n",
      "       'Protection des biens', 'Fausses alertes', 'dont fausses alertes DAAF',\n",
      "       'Faits d'animaux (hors hyménoptères)', 'Hyménoptères',\n",
      "       'Dégagements de voies publiques', 'Nettoyages de voies publiques',\n",
      "       'Éboulements', 'Déposes d'objets',\n",
      "       'Piquets de sécurité - surveillances', 'Engins explosifs',\n",
      "       'Autres opérations diverses', 'Divers', 'Opérations diverses',\n",
      "       'Total interventions'],\n",
      "      dtype='object')\n"
     ]
    }
   ],
   "source": [
    "# Afficher les colonnes disponibles\n",
    "print(df.columns)"
   ]
  },
  {
   "cell_type": "code",
   "execution_count": 103,
   "metadata": {},
   "outputs": [
    {
     "name": "stdout",
     "output_type": "stream",
     "text": [
      "[2022]\n"
     ]
    }
   ],
   "source": [
    "# Affiche les différents élement de la colonne Année\n",
    "print(df['Année'].unique())\n"
   ]
  },
  {
   "cell_type": "code",
   "execution_count": 104,
   "metadata": {},
   "outputs": [
    {
     "name": "stdout",
     "output_type": "stream",
     "text": [
      "['Sud' 'Île-de-France' 'Sud-est' 'Nord' 'Est' 'Ouest' 'Sud-ouest'\n",
      " 'Antilles' 'Guyane' 'Océan indien']\n"
     ]
    }
   ],
   "source": [
    "# Affiche les différentes \"Zone\"\n",
    "df_zone = df[\"Zone\"]\n",
    "print(df_zone.unique())"
   ]
  },
  {
   "cell_type": "code",
   "execution_count": 105,
   "metadata": {},
   "outputs": [
    {
     "name": "stdout",
     "output_type": "stream",
     "text": [
      "[\"Provence-Alpes-Côte d'Azur\" 'Île-de-France' 'Auvergne-Rhône-Alpes'\n",
      " 'Hauts-de-France' 'Grand Est' 'Occitanie' 'Normandie'\n",
      " 'Nouvelle-Aquitaine' 'Centre-Val de Loire' 'Bourgogne-Franche-Comté'\n",
      " 'Bretagne' 'Corse' 'Pays de la Loire' 'Guadeloupe' 'Martinique' 'Guyane'\n",
      " 'La Réunion' 'Mayotte']\n"
     ]
    }
   ],
   "source": [
    "# Les régions\n",
    "\n",
    "print(df[\"Région\"].unique())"
   ]
  },
  {
   "cell_type": "code",
   "execution_count": 106,
   "metadata": {},
   "outputs": [
    {
     "name": "stdout",
     "output_type": "stream",
     "text": [
      "['Bouches-du-Rhône' 'Paris' 'Ain' 'Aisne' 'Allier'\n",
      " 'Alpes-de-Haute-Provence' 'Hautes-Alpes' 'Alpes-Maritimes' 'Ardèche'\n",
      " 'Ardennes' 'Ariège' 'Aube' 'Aude' 'Aveyron' 'Calvados' 'Cantal'\n",
      " 'Charente' 'Charente-Maritime' 'Cher' 'Corrèze' \"Côte-d'Or\"\n",
      " \"Côtes-d'Armor\" 'Creuse' 'Dordogne' 'Doubs' 'Drôme' 'Eure' 'Eure-et-Loir'\n",
      " 'Finistère' 'Corse-du-Sud' 'Haute-Corse' 'Gard' 'Haute-Garonne' 'Gers'\n",
      " 'Gironde' 'Hérault' 'Ille-et-Vilaine' 'Indre' 'Indre-et-Loire' 'Isère'\n",
      " 'Jura' 'Landes' 'Loir-et-Cher' 'Loire' 'Haute-Loire' 'Loire-Atlantique'\n",
      " 'Loiret' 'Lot' 'Lot-et-Garonne' 'Lozère' 'Maine-et-Loire' 'Manche'\n",
      " 'Marne' 'Haute-Marne' 'Mayenne' 'Meurthe-et-Moselle' 'Meuse' 'Morbihan'\n",
      " 'Moselle' 'Nièvre' 'Nord' 'Oise' 'Orne' 'Pas-de-Calais' 'Puy-de-Dôme'\n",
      " 'Pyrénées-Atlantiques' 'Hautes-Pyrénées' 'Pyrénées-Orientales' 'Bas-Rhin'\n",
      " 'Haut-Rhin' 'Rhône' 'Haute-Saône' 'Saône-et-Loire' 'Sarthe' 'Savoie'\n",
      " 'Haute-Savoie' 'Seine-Maritime' 'Seine-et-Marne' 'Yvelines' 'Deux-Sèvres'\n",
      " 'Somme' 'Tarn' 'Tarn-et-Garonne' 'Var' 'Vaucluse' 'Vendée' 'Vienne'\n",
      " 'Haute-Vienne' 'Vosges' 'Yonne' 'Territoire-de-Belfort' 'Essonne'\n",
      " \"Val-d'Oise\" 'Guadeloupe' 'Martinique' 'Guyane' 'Réunion' 'Mayotte']\n"
     ]
    }
   ],
   "source": [
    "# Les départements\n",
    "print(df[\"Département\"].unique())"
   ]
  },
  {
   "cell_type": "code",
   "execution_count": 107,
   "metadata": {},
   "outputs": [
    {
     "name": "stdout",
     "output_type": "stream",
     "text": [
      "Index(['Feux d'habitations-bureaux', 'dont feux de cheminées',\n",
      "       'Feux d'ERP avec local à sommeil', 'Feux d'ERP sans local à sommeil',\n",
      "       'Feux de locaux industriels', 'Feux de locaux artisanaux',\n",
      "       'Feux de locaux agricoles', 'Feux sur voie publique',\n",
      "       'Feux de véhicules', 'Feux de végétations', 'Autres feux', 'Incendies',\n",
      "       'Accidents sur lieux de travail', 'Accidents à domicile',\n",
      "       'Accidents de sport', 'Accidents sur voie publique',\n",
      "       'Secours en montagne', 'Malaises sur lieux de travail',\n",
      "       'Malaises à domicile : urgence vitale', 'Malaises à domicile : carence',\n",
      "       'Malaises en sport', 'Malaises sur voie publique', 'Autolyses',\n",
      "       'Secours en piscines ou eaux intérieures', 'Secours en mer (FDSM)',\n",
      "       'Intoxications', 'dont intoxications au CO', 'Autres SAV',\n",
      "       'Secours à victime', 'Relevage de personnes', 'Recherche de personnes',\n",
      "       'Aides à personne', 'Secours à personne', 'Accidents routiers',\n",
      "       'Accidents ferroviaires', 'Accidents aériens',\n",
      "       'Accidents de navigation', 'Accidents de téléportage',\n",
      "       'Accidents de circulation', 'Odeurs - fuites de gaz',\n",
      "       'Odeurs (autres que gaz)', 'Fait dus à l'électricité',\n",
      "       'Pollutions - contaminations', 'Autres risques technologiques',\n",
      "       'Risques technologiques', 'Fuites d'eau', 'Inondations',\n",
      "       'Ouvertures de portes', 'Recherches d'objets', 'Bruits suspects',\n",
      "       'Protection des biens', 'Fausses alertes', 'dont fausses alertes DAAF',\n",
      "       'Faits d'animaux (hors hyménoptères)', 'Hyménoptères',\n",
      "       'Dégagements de voies publiques', 'Nettoyages de voies publiques',\n",
      "       'Éboulements', 'Déposes d'objets',\n",
      "       'Piquets de sécurité - surveillances', 'Engins explosifs',\n",
      "       'Autres opérations diverses', 'Divers', 'Opérations diverses',\n",
      "       'Total interventions'],\n",
      "      dtype='object')\n"
     ]
    }
   ],
   "source": [
    "# Les types d'interventions\n",
    "\n",
    "taille = len(df)\n",
    "\n",
    "# afficher les colonnes de l'index 6 à taille\n",
    "print(df.columns[6:taille])"
   ]
  },
  {
   "cell_type": "code",
   "execution_count": 108,
   "metadata": {},
   "outputs": [
    {
     "name": "stdout",
     "output_type": "stream",
     "text": [
      "La somme totale des interventions est : 4968481\n"
     ]
    }
   ],
   "source": [
    "# Total interventions\n",
    "\n",
    "\n",
    "df[\"Total interventions\"] = (\n",
    "    df[\"Total interventions\"]\n",
    "    .replace(r\"[^\\d]\", \"\", regex=True)  # Supprime tout sauf les chiffres\n",
    "    .astype(int)  # Convertit en int pour les calculs\n",
    ")\n",
    "\n",
    "# Calcul de la somme des interventions\n",
    "somme_totale = df[\"Total interventions\"].sum()\n",
    "\n",
    "print(f\"La somme totale des interventions est : {somme_totale}\")"
   ]
  },
  {
   "cell_type": "code",
   "execution_count": 109,
   "metadata": {},
   "outputs": [
    {
     "name": "stdout",
     "output_type": "stream",
     "text": [
      "Lignes: 99\n",
      "Colonnes: 71\n"
     ]
    }
   ],
   "source": [
    "# Nombre de colonnes et de lignes\n",
    "print(\"Lignes:\", len(df))\n",
    "print(\"Colonnes:\", len(df.columns))"
   ]
  },
  {
   "cell_type": "markdown",
   "metadata": {},
   "source": [
    "# Partie 1 : Analyse détaillé des interventions"
   ]
  },
  {
   "cell_type": "code",
   "execution_count": 110,
   "metadata": {},
   "outputs": [],
   "source": [
    "# Top 5 interventions les plus courantes (diagramme circulaire)\n"
   ]
  },
  {
   "cell_type": "code",
   "execution_count": 111,
   "metadata": {},
   "outputs": [],
   "source": [
    "# Top 5 de départements avec le plus d'interventions (diagramme circulaire)"
   ]
  },
  {
   "cell_type": "code",
   "execution_count": 112,
   "metadata": {},
   "outputs": [],
   "source": [
    "# Histogramme des interventions par zone / régions"
   ]
  },
  {
   "cell_type": "code",
   "execution_count": 113,
   "metadata": {},
   "outputs": [],
   "source": [
    "# Carte de france des interventions par département\n"
   ]
  },
  {
   "cell_type": "code",
   "execution_count": 114,
   "metadata": {},
   "outputs": [],
   "source": [
    "# Moyenne des interventions par zone / régions"
   ]
  },
  {
   "cell_type": "code",
   "execution_count": 115,
   "metadata": {},
   "outputs": [],
   "source": [
    "# Valeur médianes des interventions par zone / régions"
   ]
  },
  {
   "cell_type": "markdown",
   "metadata": {},
   "source": [
    "# Partie 2 :Facteur Influençant les interventions"
   ]
  },
  {
   "cell_type": "code",
   "execution_count": 122,
   "metadata": {},
   "outputs": [
    {
     "data": {
      "image/png": "[encoded data removed]",
      "text/plain": [
       "<Figure size 432x288 with 1 Axes>"
      ]
     },
     "metadata": {
      "needs_background": "light"
     },
     "output_type": "display_data"
    }
   ],
   "source": [
    "import pandas as pd\n",
    "import matplotlib.pyplot as plt\n",
    "\n",
    "# Filtrer les données pour la zone 'Sud'\n",
    "df_sud = df[df['Zone'] == 'Sud']\n",
    "\n",
    "# Extraire les colonnes 'Feux de végétations' et 'Région'\n",
    "feux_vegetation = df_sud['Feux de végétations']\n",
    "regions = df_sud['Région']\n",
    "\n",
    "# Créer le nuage de points\n",
    "plt.scatter(regions, feux_vegetation, color='red', label='Feux de végétations')\n",
    "\n",
    "# Ajouter des labels et un titre\n",
    "plt.xlabel('Région')\n",
    "plt.ylabel('Feux de végétations')\n",
    "plt.title('Nuage de points des feux de végétations dans le Sud de la France')\n",
    "plt.legend()\n",
    "\n",
    "# Rotation des labels de l'axe x pour une meilleure lisibilité\n",
    "plt.xticks(rotation=90)\n",
    "\n",
    "# Afficher le graphique\n",
    "plt.show()"
   ]
  },
  {
   "cell_type": "code",
   "execution_count": null,
   "metadata": {},
   "outputs": [
    {
     "data": {
      "image/png": "[encoded data removed]",
      "text/plain": [
       "<Figure size 432x288 with 1 Axes>"
      ]
     },
     "metadata": {
      "needs_background": "light"
     },
     "output_type": "display_data"
    }
   ],
   "source": [
    "import matplotlib.pyplot as plt\n",
    "import numpy as np\n",
    "\n",
    "# Données fictives pour la pollution en Île-de-France\n",
    "regions = ['Paris', 'Hauts-de-Seine', 'Seine-Saint-Denis', 'Val-de-Marne', 'Yvelines', 'Essonne', 'Val-d\\'Oise', 'Seine-et-Marne']\n",
    "pm25 = [20, 18, 22, 19, 15, 17, 16, 14]  # Niveaux de PM2.5\n",
    "no2 = [30, 28, 35, 32, 25, 27, 26, 24]   # Niveaux de NO2\n",
    "\n",
    "# Créer le nuage de points\n",
    "plt.scatter(pm25, no2, color='blue', label='Pollution en Île-de-France')\n",
    "\n",
    "# Ajouter des labels et un titre\n",
    "plt.xlabel('PM2.5 (µg/m³)')\n",
    "plt.ylabel('NO2 (µg/m³)')\n",
    "plt.title('Nuage de points de la pollution en Île-de-France')\n",
    "plt.legend()\n",
    "\n",
    "# Ajouter des annotations pour les régions\n",
    "for i, region in enumerate(regions):\n",
    "    plt.annotate(region, (pm25[i], no2[i]))\n",
    "\n",
    "# Afficher le graphique\n",
    "plt.show()"
   ]
  },
  {
   "cell_type": "code",
   "execution_count": null,
   "metadata": {},
   "outputs": [
    {
     "data": {
      "image/png": "[encoded data removed]",
      "text/plain": [
       "<Figure size 432x288 with 1 Axes>"
      ]
     },
     "metadata": {
      "needs_background": "light"
     },
     "output_type": "display_data"
    }
   ],
   "source": [
    "import pandas as pd\n",
    "import matplotlib.pyplot as plt\n",
    "\n",
    "# Filtrer les données pour la région Auvergne-Rhône-Alpes\n",
    "df_auvergne_rhone_alpes = df[df['Région'] == 'Auvergne-Rhône-Alpes']\n",
    "\n",
    "# Extraire les colonnes 'Secours en montagne' et 'Département'\n",
    "secours_montagne = df_auvergne_rhone_alpes['Secours en montagne']\n",
    "departements = df_auvergne_rhone_alpes['Département']\n",
    "\n",
    "# Créer le nuage de points\n",
    "plt.scatter(departements, secours_montagne, color='blue', label='Secours en montagne')\n",
    "\n",
    "# Ajouter des labels et un titre\n",
    "plt.xlabel('Département')\n",
    "plt.ylabel('Secours en montagne')\n",
    "plt.title('Nuage de points des secours en montagne en Auvergne-Rhône-Alpes')\n",
    "plt.legend()\n",
    "\n",
    "# Rotation des labels de l'axe x pour une meilleure lisibilité\n",
    "plt.xticks(rotation=90)\n",
    "\n",
    "# Afficher le graphique\n",
    "plt.show()"
   ]
  },
  {
   "cell_type": "code",
   "execution_count": 95,
   "metadata": {},
   "outputs": [
    {
     "data": {
      "image/png": "[encoded data removed]",
      "text/plain": [
       "<Figure size 432x288 with 1 Axes>"
      ]
     },
     "metadata": {
      "needs_background": "light"
     },
     "output_type": "display_data"
    }
   ],
   "source": [
    "import pandas as pd\n",
    "import matplotlib.pyplot as plt\n",
    "\n",
    "# Filtrer les données pour la région Hauts-de-France\n",
    "df_hauts_de_france = df[df['Région'] == 'Hauts-de-France']\n",
    "\n",
    "# Extraire les colonnes 'Inondations' et 'Département'\n",
    "inondations = df_hauts_de_france['Inondations']\n",
    "departements = df_hauts_de_france['Département']\n",
    "\n",
    "# Créer le nuage de points\n",
    "plt.scatter(departements, inondations, color='blue', label='Inondations')\n",
    "\n",
    "# Ajouter des labels et un titre\n",
    "plt.xlabel('Département')\n",
    "plt.ylabel('Inondations')\n",
    "plt.title('Nuage de points des inondations dans les Hauts-de-France')\n",
    "plt.legend()\n",
    "\n",
    "# Rotation des labels de l'axe x pour une meilleure lisibilité\n",
    "plt.xticks(rotation=90)\n",
    "\n",
    "# Afficher le graphique\n",
    "plt.show()"
   ]
  },
  {
   "cell_type": "code",
   "execution_count": 96,
   "metadata": {},
   "outputs": [],
   "source": [
    "# Calcul probabilité des événement précédent probabilité que l'intervtion arrive dans la localisation"
   ]
  }
 ],
 "metadata": {
  "kernelspec": {
   "display_name": "Python 3",
   "language": "python",
   "name": "python3"
  },
  "language_info": {
   "codemirror_mode": {
    "name": "ipython",
    "version": 3
   },
   "file_extension": ".py",
   "mimetype": "text/x-python",
   "name": "python",
   "nbconvert_exporter": "python",
   "pygments_lexer": "ipython3",
   "version": "3.10.5"
  }
 },
 "nbformat": 4,
 "nbformat_minor": 2
}
