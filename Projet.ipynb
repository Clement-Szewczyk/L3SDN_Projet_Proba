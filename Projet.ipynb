{
 "cells": [
  {
   "cell_type": "code",
   "execution_count": 14,
   "metadata": {},
   "outputs": [],
   "source": [
    "#Préparation des données\n",
    "import pandas as pd\n",
    "\n",
    "# Charger le fichier CSV avec l'encodage spécifié\n",
    "file_path = \"data/data2022.csv\"  # Remplacez par le chemin de votre fichier\n",
    "df = pd.read_csv(file_path, encoding='latin-1')  # Spécifiez l'encodage correct ici\n"
   ]
  },
  {
   "cell_type": "code",
   "execution_count": 15,
   "metadata": {},
   "outputs": [],
   "source": [
    "import csv\n",
    "\n",
    "def convertionStringToInt(string):\n",
    "    sans_espace = string.replace(\" \", \"\")\n",
    "    try :\n",
    "        return int(sans_espace)\n",
    "    except ValueError:\n",
    "        return None"
   ]
  },
  {
   "cell_type": "code",
   "execution_count": 16,
   "metadata": {},
   "outputs": [
    {
     "name": "stdout",
     "output_type": "stream",
     "text": [
      "  Année;Zone;Région;Numéro;Département;Catégorie A;Feux d'habitations-bureaux;dont feux de cheminées;Feux d'ERP avec local à sommeil;Feux d'ERP sans local à sommeil;Feux de locaux industriels;Feux de locaux artisanaux;Feux de locaux agricoles;Feux sur voie publique;Feux de véhicules;Feux de végétations;Autres feux;Incendies;Accidents sur lieux de travail;Accidents à domicile;Accidents de sport;Accidents sur voie publique;Secours en montagne;Malaises sur lieux de travail;Malaises à domicile : urgence vitale;Malaises à domicile : carence;Malaises en sport;Malaises sur voie publique;Autolyses;Secours en piscines ou eaux intérieures;Secours en mer (FDSM);Intoxications;dont intoxications au CO;Autres SAV;Secours à victime;Relevage de personnes;Recherche de personnes;Aides à personne;Secours à personne;Accidents routiers;Accidents ferroviaires;Accidents aériens;Accidents de navigation;Accidents de téléportage;Accidents de circulation;Odeurs - fuites de gaz;Odeurs (autres que gaz);Fait dus à l'électricité;Pollutions - contaminations;Autres risques technologiques;Risques technologiques;Fuites d'eau;Inondations;Ouvertures de portes;Recherches d'objets;Bruits suspects;Protection des biens;Fausses alertes;dont fausses alertes DAAF;Faits d'animaux (hors hyménoptères);Hyménoptères;Dégagements de voies publiques;Nettoyages de voies publiques;Éboulements;Déposes d'objets;Piquets de sécurité - surveillances;Engins explosifs;Autres opérations diverses;Divers;Opérations diverses;Total interventions\n",
      "0  2022;Sud;Provence-Alpes-Côte d'Azur;BMPM;Bouch...                                                                                                                                                                                                                                                                                                                                                                                                                                                                                                                                                                                                                                                                                                                                                                                                                                                                                                                                                                                                                                                                                                                                                                                                                                                                                                                                                                                                                                                                                                             \n",
      "1  2022;Île-de-France;Île-de-France;BSPP;Paris;;3...                                                                                                                                                                                                                                                                                                                                                                                                                                                                                                                                                                                                                                                                                                                                                                                                                                                                                                                                                                                                                                                                                                                                                                                                                                                                                                                                                                                                                                                                                                             \n",
      "2  2022;Sud-est;Auvergne-Rhône-Alpes;1;Ain;B;524;...                                                                                                                                                                                                                                                                                                                                                                                                                                                                                                                                                                                                                                                                                                                                                                                                                                                                                                                                                                                                                                                                                                                                                                                                                                                                                                                                                                                                                                                                                                             \n",
      "3  2022;Nord;Hauts-de-France;2;Aisne;B;954;329;30...                                                                                                                                                                                                                                                                                                                                                                                                                                                                                                                                                                                                                                                                                                                                                                                                                                                                                                                                                                                                                                                                                                                                                                                                                                                                                                                                                                                                                                                                                                             \n",
      "4  2022;Sud-est;Auvergne-Rhône-Alpes;3;Allier;C;4...                                                                                                                                                                                                                                                                                                                                                                                                                                                                                                                                                                                                                                                                                                                                                                                                                                                                                                                                                                                                                                                                                                                                                                                                                                                                                                                                                                                                                                                                                                             \n"
     ]
    }
   ],
   "source": [
    "# Afficher les premières lignes pour inspecter les données\n",
    "print(df.head())"
   ]
  },
  {
   "cell_type": "code",
   "execution_count": 17,
   "metadata": {},
   "outputs": [
    {
     "name": "stdout",
     "output_type": "stream",
     "text": [
      "Index(['Année;Zone;Région;Numéro;Département;Catégorie A;Feux d'habitations-bureaux;dont feux de cheminées;Feux d'ERP avec local à sommeil;Feux d'ERP sans local à sommeil;Feux de locaux industriels;Feux de locaux artisanaux;Feux de locaux agricoles;Feux sur voie publique;Feux de véhicules;Feux de végétations;Autres feux;Incendies;Accidents sur lieux de travail;Accidents à domicile;Accidents de sport;Accidents sur voie publique;Secours en montagne;Malaises sur lieux de travail;Malaises à domicile : urgence vitale;Malaises à domicile : carence;Malaises en sport;Malaises sur voie publique;Autolyses;Secours en piscines ou eaux intérieures;Secours en mer (FDSM);Intoxications;dont intoxications au CO;Autres SAV;Secours à victime;Relevage de personnes;Recherche de personnes;Aides à personne;Secours à personne;Accidents routiers;Accidents ferroviaires;Accidents aériens;Accidents de navigation;Accidents de téléportage;Accidents de circulation;Odeurs - fuites de gaz;Odeurs (autres que gaz);Fait dus à l'électricité;Pollutions - contaminations;Autres risques technologiques;Risques technologiques;Fuites d'eau;Inondations;Ouvertures de portes;Recherches d'objets;Bruits suspects;Protection des biens;Fausses alertes;dont fausses alertes DAAF;Faits d'animaux (hors hyménoptères);Hyménoptères;Dégagements de voies publiques;Nettoyages de voies publiques;Éboulements;Déposes d'objets;Piquets de sécurité - surveillances;Engins explosifs;Autres opérations diverses;Divers;Opérations diverses;Total interventions'], dtype='object')\n"
     ]
    }
   ],
   "source": [
    "# Afficher les colonnes disponibles\n",
    "print(df.columns)"
   ]
  },
  {
   "cell_type": "markdown",
   "metadata": {},
   "source": [
    "# Projet de Probabilité Statistique L3 Sciences du Numérique \n",
    "\n",
    "<!-- TOC --> \n",
    "\n",
    "- [Projet de Probabilité Statistique L3 Sciences du Numérique](#projet-de-probabilité-statistique-l3-sciences-du-numérique)\n",
    "  - [Introduction](#introduction)\n",
    "\n",
    "\n",
    "<!-- /TOC -->\n",
    "\n",
    "\n",
    "\n"
   ]
  },
  {
   "cell_type": "code",
   "execution_count": 18,
   "metadata": {},
   "outputs": [
    {
     "name": "stdout",
     "output_type": "stream",
     "text": [
      "Année\n",
      "Zone\n",
      "Région\n",
      "Numéro\n",
      "Département\n",
      "Catégorie A\n",
      "Feux d'habitations-bureaux\n",
      "dont feux de cheminées\n",
      "Feux d'ERP avec local à sommeil\n",
      "Feux d'ERP sans local à sommeil\n",
      "Feux de locaux industriels\n",
      "Feux de locaux artisanaux\n",
      "Feux de locaux agricoles\n",
      "Feux sur voie publique\n",
      "Feux de véhicules\n",
      "Feux de végétations\n",
      "Autres feux\n",
      "Incendies\n",
      "Accidents sur lieux de travail\n",
      "Accidents à domicile\n",
      "Accidents de sport\n",
      "Accidents sur voie publique\n",
      "Secours en montagne\n",
      "Malaises sur lieux de travail\n",
      "Malaises à domicile : urgence vitale\n",
      "Malaises à domicile : carence\n",
      "Malaises en sport\n",
      "Malaises sur voie publique\n",
      "Autolyses\n",
      "Secours en piscines ou eaux intérieures\n",
      "Secours en mer (FDSM)\n",
      "Intoxications\n",
      "dont intoxications au CO\n",
      "Autres SAV\n",
      "Secours à victime\n",
      "Relevage de personnes\n",
      "Recherche de personnes\n",
      "Aides à personne\n",
      "Secours à personne\n",
      "Accidents routiers\n",
      "Accidents ferroviaires\n",
      "Accidents aériens\n",
      "Accidents de navigation\n",
      "Accidents de téléportage\n",
      "Accidents de circulation\n",
      "Odeurs - fuites de gaz\n",
      "Odeurs (autres que gaz)\n",
      "Fait dus à l'électricité\n",
      "Pollutions - contaminations\n",
      "Autres risques technologiques\n",
      "Risques technologiques\n",
      "Fuites d'eau\n",
      "Inondations\n",
      "Ouvertures de portes\n",
      "Recherches d'objets\n",
      "Bruits suspects\n",
      "Protection des biens\n",
      "Fausses alertes\n",
      "dont fausses alertes DAAF\n",
      "Faits d'animaux (hors hyménoptères)\n",
      "Hyménoptères\n",
      "Dégagements de voies publiques\n",
      "Nettoyages de voies publiques\n",
      "Éboulements\n",
      "Déposes d'objets\n",
      "Piquets de sécurité - surveillances\n",
      "Engins explosifs\n",
      "Autres opérations diverses\n",
      "Divers\n",
      "Opérations diverses\n",
      "Total interventions\n"
     ]
    }
   ],
   "source": [
    "data = []\n",
    "with open('data/data2022.csv', newline='') as csvfile:\n",
    "    spamreader = csv.reader(csvfile, delimiter=';', quotechar='|')\n",
    "    for row in spamreader:\n",
    "        data.append(row)\n",
    "\n",
    "champs = data[0]\n",
    "    \n",
    "for champ in champs:\n",
    "    print(champ)\n",
    "\n"
   ]
  },
  {
   "cell_type": "code",
   "execution_count": null,
   "metadata": {},
   "outputs": [],
   "source": [
    "#Variables temporelles"
   ]
  },
  {
   "cell_type": "code",
   "execution_count": null,
   "metadata": {},
   "outputs": [],
   "source": [
    "# Variables géographiques\n",
    "region = []\n",
    "\n",
    "for row in data:\n",
    "    # sauf la première ligne\n",
    "    if row[2] == 'Région':\n",
    "        pass\n",
    "    else :\n",
    "        region.append(row[2])\n",
    "\n",
    "print(region)\n"
   ]
  },
  {
   "cell_type": "code",
   "execution_count": null,
   "metadata": {},
   "outputs": [],
   "source": [
    "#Catégories des interventions"
   ]
  },
  {
   "cell_type": "code",
   "execution_count": null,
   "metadata": {},
   "outputs": [],
   "source": [
    "#Détails spécifiques\n",
    "totalIntervention = 0\n",
    "\n",
    "for row in data:\n",
    "    index = len(row)\n",
    "    #print(\"conversion :\",convertionStringToInt(row[index-1]))\n",
    "    totalIntervention += convertionStringToInt(row[index-1])\n",
    "\n",
    "print(\"Total Interventions:\", totalIntervention)"
   ]
  }
 ],
 "metadata": {
  "kernelspec": {
   "display_name": "Python 3",
   "language": "python",
   "name": "python3"
  },
  "language_info": {
   "codemirror_mode": {
    "name": "ipython",
    "version": 3
   },
   "file_extension": ".py",
   "mimetype": "text/x-python",
   "name": "python",
   "nbconvert_exporter": "python",
   "pygments_lexer": "ipython3",
   "version": "3.10.5"
  }
 },
 "nbformat": 4,
 "nbformat_minor": 2
}
