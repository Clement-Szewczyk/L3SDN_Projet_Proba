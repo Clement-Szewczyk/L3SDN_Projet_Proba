{
 "cells": [
  {
   "cell_type": "markdown",
   "metadata": {},
   "source": [
    "# Projet Probabilité et Statistique L3 Sciences du Numérique\n",
    "\n",
    "**Auteurs :**\n",
    "- Stievenard Emma\n",
    "- Szewczyk Clément"
   ]
  },
  {
   "cell_type": "code",
   "execution_count": 5,
   "metadata": {},
   "outputs": [],
   "source": [
    "#Préparation des données\n",
    "import pandas as pd\n",
    "\n",
    "# Charger le fichier CSV avec l'encodage spécifié\n",
    "file_path = \"data/data2022.csv\"  # Remplacez par le chemin de votre fichier\n",
    "df = pd.read_csv(file_path, encoding='latin-1', sep=';')  # Spécifiez l'encodage correct ici\n"
   ]
  },
  {
   "cell_type": "code",
   "execution_count": 6,
   "metadata": {},
   "outputs": [],
   "source": [
    "import csv\n",
    "\n",
    "def convertionStringToInt(string):\n",
    "    sans_espace = string.replace(\" \", \"\")\n",
    "    try :\n",
    "        return int(sans_espace)\n",
    "    except ValueError:\n",
    "        return None"
   ]
  },
  {
   "cell_type": "code",
   "execution_count": 7,
   "metadata": {},
   "outputs": [
    {
     "name": "stdout",
     "output_type": "stream",
     "text": [
      "   Année           Zone                      Région Numéro       Département  \\\n",
      "0   2022            Sud  Provence-Alpes-Côte d'Azur   BMPM  Bouches-du-Rhône   \n",
      "1   2022  Île-de-France               Île-de-France   BSPP             Paris   \n",
      "2   2022        Sud-est        Auvergne-Rhône-Alpes      1               Ain   \n",
      "3   2022           Nord             Hauts-de-France      2             Aisne   \n",
      "4   2022        Sud-est        Auvergne-Rhône-Alpes      3            Allier   \n",
      "\n",
      "  Catégorie A Feux d'habitations-bureaux  dont feux de cheminées  \\\n",
      "0         NaN                        756                    10.0   \n",
      "1         NaN                      3 708                    29.0   \n",
      "2           B                        524                   211.0   \n",
      "3           B                        954                   329.0   \n",
      "4           C                        449                   223.0   \n",
      "\n",
      "   Feux d'ERP avec local à sommeil  Feux d'ERP sans local à sommeil  ...  \\\n",
      "0                             44.0                            141.0  ...   \n",
      "1                            133.0                            583.0  ...   \n",
      "2                             22.0                             13.0  ...   \n",
      "3                             30.0                             53.0  ...   \n",
      "4                              8.0                             24.0  ...   \n",
      "\n",
      "   Dégagements de voies publiques  Nettoyages de voies publiques  Éboulements  \\\n",
      "0                             542                          124.0         21.0   \n",
      "1                              30                          252.0         36.0   \n",
      "2                             281                            1.0         38.0   \n",
      "3                              16                            0.0          5.0   \n",
      "4                             146                           40.0          1.0   \n",
      "\n",
      "  Déposes d'objets Piquets de sécurité - surveillances Engins explosifs  \\\n",
      "0                0                               1 752              1.0   \n",
      "1              543                                   0             10.0   \n",
      "2               57                                   3              0.0   \n",
      "3               93                                   0              1.0   \n",
      "4              163                                  26              0.0   \n",
      "\n",
      "  Autres opérations diverses  Divers Opérations diverses Total interventions  \n",
      "0                      7 173  15 018              18 637             126 581  \n",
      "1                      9 290  13 564              16 530             498 162  \n",
      "2                        646   5 460               6 180              48 528  \n",
      "3                        150   2 627               3 930              36 219  \n",
      "4                      5 226   5 794               6 696              32 024  \n",
      "\n",
      "[5 rows x 71 columns]\n"
     ]
    }
   ],
   "source": [
    "# Afficher les premières lignes pour inspecter les données\n",
    "print(df.head())"
   ]
  },
  {
   "cell_type": "code",
   "execution_count": 8,
   "metadata": {},
   "outputs": [
    {
     "name": "stdout",
     "output_type": "stream",
     "text": [
      "Index(['Année', 'Zone', 'Région', 'Numéro', 'Département', 'Catégorie A',\n",
      "       'Feux d'habitations-bureaux', 'dont feux de cheminées',\n",
      "       'Feux d'ERP avec local à sommeil', 'Feux d'ERP sans local à sommeil',\n",
      "       'Feux de locaux industriels', 'Feux de locaux artisanaux',\n",
      "       'Feux de locaux agricoles', 'Feux sur voie publique',\n",
      "       'Feux de véhicules', 'Feux de végétations', 'Autres feux', 'Incendies',\n",
      "       'Accidents sur lieux de travail', 'Accidents à domicile',\n",
      "       'Accidents de sport', 'Accidents sur voie publique',\n",
      "       'Secours en montagne', 'Malaises sur lieux de travail',\n",
      "       'Malaises à domicile : urgence vitale', 'Malaises à domicile : carence',\n",
      "       'Malaises en sport', 'Malaises sur voie publique', 'Autolyses',\n",
      "       'Secours en piscines ou eaux intérieures', 'Secours en mer (FDSM)',\n",
      "       'Intoxications', 'dont intoxications au CO', 'Autres SAV',\n",
      "       'Secours à victime', 'Relevage de personnes', 'Recherche de personnes',\n",
      "       'Aides à personne', 'Secours à personne', 'Accidents routiers',\n",
      "       'Accidents ferroviaires', 'Accidents aériens',\n",
      "       'Accidents de navigation', 'Accidents de téléportage',\n",
      "       'Accidents de circulation', 'Odeurs - fuites de gaz',\n",
      "       'Odeurs (autres que gaz)', 'Fait dus à l'électricité',\n",
      "       'Pollutions - contaminations', 'Autres risques technologiques',\n",
      "       'Risques technologiques', 'Fuites d'eau', 'Inondations',\n",
      "       'Ouvertures de portes', 'Recherches d'objets', 'Bruits suspects',\n",
      "       'Protection des biens', 'Fausses alertes', 'dont fausses alertes DAAF',\n",
      "       'Faits d'animaux (hors hyménoptères)', 'Hyménoptères',\n",
      "       'Dégagements de voies publiques', 'Nettoyages de voies publiques',\n",
      "       'Éboulements', 'Déposes d'objets',\n",
      "       'Piquets de sécurité - surveillances', 'Engins explosifs',\n",
      "       'Autres opérations diverses', 'Divers', 'Opérations diverses',\n",
      "       'Total interventions'],\n",
      "      dtype='object')\n"
     ]
    }
   ],
   "source": [
    "# Afficher les colonnes disponibles\n",
    "print(df.columns)"
   ]
  },
  {
   "cell_type": "code",
   "execution_count": 9,
   "metadata": {},
   "outputs": [
    {
     "name": "stdout",
     "output_type": "stream",
     "text": [
      "[2022]\n"
     ]
    }
   ],
   "source": [
    "# Affiche les différents élement de la colonne Année\n",
    "print(df['Année'].unique())\n"
   ]
  },
  {
   "cell_type": "code",
   "execution_count": 10,
   "metadata": {},
   "outputs": [
    {
     "name": "stdout",
     "output_type": "stream",
     "text": [
      "['Sud' 'Île-de-France' 'Sud-est' 'Nord' 'Est' 'Ouest' 'Sud-ouest'\n",
      " 'Antilles' 'Guyane' 'Océan indien']\n"
     ]
    }
   ],
   "source": [
    "# Affiche les différentes \"Zone\"\n",
    "df_zone = df[\"Zone\"]\n",
    "print(df_zone.unique())"
   ]
  },
  {
   "cell_type": "code",
   "execution_count": 11,
   "metadata": {},
   "outputs": [
    {
     "name": "stdout",
     "output_type": "stream",
     "text": [
      "[\"Provence-Alpes-Côte d'Azur\" 'Île-de-France' 'Auvergne-Rhône-Alpes'\n",
      " 'Hauts-de-France' 'Grand Est' 'Occitanie' 'Normandie'\n",
      " 'Nouvelle-Aquitaine' 'Centre-Val de Loire' 'Bourgogne-Franche-Comté'\n",
      " 'Bretagne' 'Corse' 'Pays de la Loire' 'Guadeloupe' 'Martinique' 'Guyane'\n",
      " 'La Réunion' 'Mayotte']\n"
     ]
    }
   ],
   "source": [
    "# Les régions\n",
    "\n",
    "print(df[\"Région\"].unique())"
   ]
  },
  {
   "cell_type": "code",
   "execution_count": 12,
   "metadata": {},
   "outputs": [
    {
     "name": "stdout",
     "output_type": "stream",
     "text": [
      "['Bouches-du-Rhône' 'Paris' 'Ain' 'Aisne' 'Allier'\n",
      " 'Alpes-de-Haute-Provence' 'Hautes-Alpes' 'Alpes-Maritimes' 'Ardèche'\n",
      " 'Ardennes' 'Ariège' 'Aube' 'Aude' 'Aveyron' 'Calvados' 'Cantal'\n",
      " 'Charente' 'Charente-Maritime' 'Cher' 'Corrèze' \"Côte-d'Or\"\n",
      " \"Côtes-d'Armor\" 'Creuse' 'Dordogne' 'Doubs' 'Drôme' 'Eure' 'Eure-et-Loir'\n",
      " 'Finistère' 'Corse-du-Sud' 'Haute-Corse' 'Gard' 'Haute-Garonne' 'Gers'\n",
      " 'Gironde' 'Hérault' 'Ille-et-Vilaine' 'Indre' 'Indre-et-Loire' 'Isère'\n",
      " 'Jura' 'Landes' 'Loir-et-Cher' 'Loire' 'Haute-Loire' 'Loire-Atlantique'\n",
      " 'Loiret' 'Lot' 'Lot-et-Garonne' 'Lozère' 'Maine-et-Loire' 'Manche'\n",
      " 'Marne' 'Haute-Marne' 'Mayenne' 'Meurthe-et-Moselle' 'Meuse' 'Morbihan'\n",
      " 'Moselle' 'Nièvre' 'Nord' 'Oise' 'Orne' 'Pas-de-Calais' 'Puy-de-Dôme'\n",
      " 'Pyrénées-Atlantiques' 'Hautes-Pyrénées' 'Pyrénées-Orientales' 'Bas-Rhin'\n",
      " 'Haut-Rhin' 'Rhône' 'Haute-Saône' 'Saône-et-Loire' 'Sarthe' 'Savoie'\n",
      " 'Haute-Savoie' 'Seine-Maritime' 'Seine-et-Marne' 'Yvelines' 'Deux-Sèvres'\n",
      " 'Somme' 'Tarn' 'Tarn-et-Garonne' 'Var' 'Vaucluse' 'Vendée' 'Vienne'\n",
      " 'Haute-Vienne' 'Vosges' 'Yonne' 'Territoire-de-Belfort' 'Essonne'\n",
      " \"Val-d'Oise\" 'Guadeloupe' 'Martinique' 'Guyane' 'Réunion' 'Mayotte']\n"
     ]
    }
   ],
   "source": [
    "# Les départements\n",
    "print(df[\"Département\"].unique())"
   ]
  },
  {
   "cell_type": "code",
   "execution_count": 13,
   "metadata": {},
   "outputs": [
    {
     "name": "stdout",
     "output_type": "stream",
     "text": [
      "99\n",
      "Index(['Feux d'habitations-bureaux', 'dont feux de cheminées',\n",
      "       'Feux d'ERP avec local à sommeil', 'Feux d'ERP sans local à sommeil',\n",
      "       'Feux de locaux industriels', 'Feux de locaux artisanaux',\n",
      "       'Feux de locaux agricoles', 'Feux sur voie publique',\n",
      "       'Feux de véhicules', 'Feux de végétations', 'Autres feux', 'Incendies',\n",
      "       'Accidents sur lieux de travail', 'Accidents à domicile',\n",
      "       'Accidents de sport', 'Accidents sur voie publique',\n",
      "       'Secours en montagne', 'Malaises sur lieux de travail',\n",
      "       'Malaises à domicile : urgence vitale', 'Malaises à domicile : carence',\n",
      "       'Malaises en sport', 'Malaises sur voie publique', 'Autolyses',\n",
      "       'Secours en piscines ou eaux intérieures', 'Secours en mer (FDSM)',\n",
      "       'Intoxications', 'dont intoxications au CO', 'Autres SAV',\n",
      "       'Secours à victime', 'Relevage de personnes', 'Recherche de personnes',\n",
      "       'Aides à personne', 'Secours à personne', 'Accidents routiers',\n",
      "       'Accidents ferroviaires', 'Accidents aériens',\n",
      "       'Accidents de navigation', 'Accidents de téléportage',\n",
      "       'Accidents de circulation', 'Odeurs - fuites de gaz',\n",
      "       'Odeurs (autres que gaz)', 'Fait dus à l'électricité',\n",
      "       'Pollutions - contaminations', 'Autres risques technologiques',\n",
      "       'Risques technologiques', 'Fuites d'eau', 'Inondations',\n",
      "       'Ouvertures de portes', 'Recherches d'objets', 'Bruits suspects',\n",
      "       'Protection des biens', 'Fausses alertes', 'dont fausses alertes DAAF',\n",
      "       'Faits d'animaux (hors hyménoptères)', 'Hyménoptères',\n",
      "       'Dégagements de voies publiques', 'Nettoyages de voies publiques',\n",
      "       'Éboulements', 'Déposes d'objets',\n",
      "       'Piquets de sécurité - surveillances', 'Engins explosifs',\n",
      "       'Autres opérations diverses', 'Divers', 'Opérations diverses',\n",
      "       'Total interventions'],\n",
      "      dtype='object')\n"
     ]
    }
   ],
   "source": [
    "# Les types d'interventions\n",
    "\n",
    "taille = len(df)\n",
    "print(taille) \n",
    "\n",
    "# afficher les colonnes de l'index 6 à taille\n",
    "print(df.columns[6:taille])"
   ]
  },
  {
   "cell_type": "code",
   "execution_count": 24,
   "metadata": {},
   "outputs": [
    {
     "name": "stdout",
     "output_type": "stream",
     "text": [
      "La somme totale des interventions est : 4968481\n"
     ]
    }
   ],
   "source": [
    "# faire la somme de toutes les interventions en prenant les valeur de la colonne \"Total interventions\"\n",
    "\n",
    "# Suppression des espaces ou des caractères parasites dans la colonne \"Total interventions\"\n",
    "df[\"Total interventions\"] = (\n",
    "    df[\"Total interventions\"]\n",
    "    .replace(r\"[^\\d]\", \"\", regex=True)  # Supprime tout sauf les chiffres\n",
    "    .astype(int)  # Convertit en float pour les calculs\n",
    ")\n",
    "\n",
    "# Calcul de la somme des interventions\n",
    "somme_totale = df[\"Total interventions\"].sum()\n",
    "\n",
    "print(f\"La somme totale des interventions est : {somme_totale}\")"
   ]
  },
  {
   "cell_type": "code",
   "execution_count": 15,
   "metadata": {},
   "outputs": [
    {
     "name": "stdout",
     "output_type": "stream",
     "text": [
      "Lignes: 99\n",
      "Colonnes: 71\n"
     ]
    }
   ],
   "source": [
    "# Nombre de colonnes et de lignes\n",
    "print(\"Lignes:\", len(df))\n",
    "print(\"Colonnes:\", len(df.columns))"
   ]
  }
 ],
 "metadata": {
  "kernelspec": {
   "display_name": "Python 3",
   "language": "python",
   "name": "python3"
  },
  "language_info": {
   "codemirror_mode": {
    "name": "ipython",
    "version": 3
   },
   "file_extension": ".py",
   "mimetype": "text/x-python",
   "name": "python",
   "nbconvert_exporter": "python",
   "pygments_lexer": "ipython3",
   "version": "3.11.4"
  }
 },
 "nbformat": 4,
 "nbformat_minor": 2
}
